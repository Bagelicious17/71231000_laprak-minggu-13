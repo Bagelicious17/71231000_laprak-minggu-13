{
 "cells": [
  {
   "cell_type": "code",
   "execution_count": 64,
   "metadata": {},
   "outputs": [
    {
     "name": "stdout",
     "output_type": "stream",
     "text": [
      "angka:23\n",
      "prima\n"
     ]
    }
   ],
   "source": [
    "def cek_angka(n,i):\n",
    "    if n <= 1:\n",
    "        return False\n",
    "    if n <= 3:\n",
    "        return True\n",
    "    if n % i == 0:\n",
    "        return False\n",
    "    else:\n",
    "        return True\n",
    "    cek_angka(n, i + 1)\n",
    "\n",
    "p = int(input(\"Masukkan angka: \"))\n",
    "if cek_angka(p,2):\n",
    "    print(f\"angka:{p}\\nprima\")\n",
    "else:\n",
    "    print(f\"angka:{p}\\nbukan prima\")\n"
   ]
  },
  {
   "cell_type": "code",
   "execution_count": 38,
   "metadata": {},
   "outputs": [
    {
     "name": "stdout",
     "output_type": "stream",
     "text": [
      "kalimat:kasur rusak\n",
      "palindrome\n"
     ]
    }
   ],
   "source": [
    "def kalimat_palindrome(s, i, j):\n",
    "    \"\"\"Recursively check if a string is a palindrome.\"\"\"\n",
    "    if i >= j:\n",
    "        return True\n",
    "    if s[i] != s[j]:\n",
    "        return False\n",
    "    return kalimat_palindrome(s, i + 1, j - 1)\n",
    "\n",
    "p = str(input(\"Masukkan kalimat: \"))\n",
    "\n",
    "if kalimat_palindrome(p, 0, len(p) - 1):\n",
    "    print(f\"kalimat:{p}\\npalindrome\")\n",
    "else:\n",
    "    print(f\"kalimat:{p}\\nbukan palindrome\")\n"
   ]
  },
  {
   "cell_type": "code",
   "execution_count": 65,
   "metadata": {},
   "outputs": [
    {
     "name": "stdout",
     "output_type": "stream",
     "text": [
      "angka:15\n",
      "hasil:64\n"
     ]
    }
   ],
   "source": [
    "def hitung_angka_ganjil(i,n,x):\n",
    "    if n<i:\n",
    "        print(f\"angka:{p}\\nhasil:{x}\")\n",
    "        return \n",
    "    hitung_angka_ganjil(i+2,n,x+i)\n",
    "\n",
    "p=int(input(\"masukkan angka: \"))\n",
    "hitung_angka_ganjil(1,p,0)\n"
   ]
  },
  {
   "cell_type": "code",
   "execution_count": 66,
   "metadata": {},
   "outputs": [
    {
     "name": "stdout",
     "output_type": "stream",
     "text": [
      "bilangan:234\n",
      "hasil:9\n"
     ]
    }
   ],
   "source": [
    "def sum_of_digits(s,i):\n",
    "    if i == len(s):\n",
    "        return 0\n",
    "    current_value = int(s[i]) if s[i].isdigit() else 0\n",
    "    return current_value + sum_of_digits(s, i + 1)\n",
    "\n",
    "p = str(input(\"Masukkan bilangan: \"))\n",
    "\n",
    "x = sum_of_digits(p,0)\n",
    "\n",
    "print(f\"bilangan:{p}\\nhasil:{x}\")\n"
   ]
  },
  {
   "cell_type": "code",
   "execution_count": 61,
   "metadata": {},
   "outputs": [
    {
     "name": "stdout",
     "output_type": "stream",
     "text": [
      "C(6, 4) = 15\n"
     ]
    }
   ],
   "source": [
    "def hitung_kombinasi(n, r):\n",
    "    if r == 0 or r == n:\n",
    "        return 1\n",
    "    elif n<r:\n",
    "        return\n",
    "    return hitung_kombinasi(n - 1, r - 1) + hitung_kombinasi(n - 1, r)\n",
    "\n",
    "n = int(input(\"Masukkan nilai n: \"))\n",
    "r = int(input(\"Masukkan nilai r: \"))\n",
    "if hitung_kombinasi(n,r)==None:\n",
    "    print(\"error, mohon ikuti aturan n>r\")\n",
    "else:\n",
    "    print(f\"C({n}, {r}) = {hitung_kombinasi(n, r)}\")\n"
   ]
  }
 ],
 "metadata": {
  "kernelspec": {
   "display_name": "Python 3",
   "language": "python",
   "name": "python3"
  },
  "language_info": {
   "codemirror_mode": {
    "name": "ipython",
    "version": 3
   },
   "file_extension": ".py",
   "mimetype": "text/x-python",
   "name": "python",
   "nbconvert_exporter": "python",
   "pygments_lexer": "ipython3",
   "version": "3.12.2"
  }
 },
 "nbformat": 4,
 "nbformat_minor": 2
}
